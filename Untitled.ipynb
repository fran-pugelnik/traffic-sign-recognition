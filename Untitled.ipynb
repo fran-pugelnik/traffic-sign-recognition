{
 "cells": [
  {
   "cell_type": "code",
   "execution_count": 135,
   "metadata": {},
   "outputs": [
    {
     "name": "stdout",
     "output_type": "stream",
     "text": [
      "The tensorboard extension is already loaded. To reload it, use:\n",
      "  %reload_ext tensorboard\n"
     ]
    }
   ],
   "source": [
    "import pandas as pd\n",
    "import numpy as np\n",
    "import os\n",
    "import cv2\n",
    "import matplotlib.pyplot as plt\n",
    "import random\n",
    "import tensorflow as tf\n",
    "import datetime\n",
    "import random\n",
    "import pandas as pd\n",
    "import matplotlib.pyplot as plt\n",
    "\n",
    "\n",
    "from sklearn.metrics import accuracy_score\n",
    "from sklearn.model_selection import train_test_split\n",
    "from tensorflow.keras.models import Sequential\n",
    "from tensorflow.keras.layers import BatchNormalization\n",
    "from tensorflow.keras.layers import Conv2D\n",
    "from tensorflow.keras.layers import MaxPooling2D\n",
    "from tensorflow.keras.layers import Activation\n",
    "from tensorflow.keras.layers import Flatten\n",
    "from tensorflow.keras.layers import Dropout\n",
    "from tensorflow.keras.layers import Dense\n",
    "from tensorflow.keras.utils import to_categorical\n",
    "from tensorflow.keras.preprocessing.image import ImageDataGenerator\n",
    "from tensorflow.keras.optimizers import Adam\n",
    "\n",
    "\n",
    "%load_ext tensorboard\n",
    "os.environ['TF_XLA_FLAGS'] = '--tf_xla_enable_xla_devices'"
   ]
  },
  {
   "cell_type": "code",
   "execution_count": 7,
   "metadata": {},
   "outputs": [
    {
     "name": "stdout",
     "output_type": "stream",
     "text": [
      "Wed May 12 20:16:27 2021       \n",
      "+-----------------------------------------------------------------------------+\n",
      "| NVIDIA-SMI 466.27       Driver Version: 466.27       CUDA Version: 11.3     |\n",
      "|-------------------------------+----------------------+----------------------+\n",
      "| GPU  Name            TCC/WDDM | Bus-Id        Disp.A | Volatile Uncorr. ECC |\n",
      "| Fan  Temp  Perf  Pwr:Usage/Cap|         Memory-Usage | GPU-Util  Compute M. |\n",
      "|                               |                      |               MIG M. |\n",
      "|===============================+======================+======================|\n",
      "|   0  NVIDIA GeForce ... WDDM  | 00000000:01:00.0  On |                  N/A |\n",
      "|  0%   43C    P8    10W / 200W |    550MiB /  8192MiB |      4%      Default |\n",
      "|                               |                      |                  N/A |\n",
      "+-------------------------------+----------------------+----------------------+\n",
      "                                                                               \n",
      "+-----------------------------------------------------------------------------+\n",
      "| Processes:                                                                  |\n",
      "|  GPU   GI   CI        PID   Type   Process name                  GPU Memory |\n",
      "|        ID   ID                                                   Usage      |\n",
      "|=============================================================================|\n",
      "|    0   N/A  N/A      1136    C+G   C:\\Windows\\System32\\dwm.exe     N/A      |\n",
      "|    0   N/A  N/A      2864    C+G   ...5n1h2txyewy\\SearchApp.exe    N/A      |\n",
      "|    0   N/A  N/A      3148    C+G   ...e\\Current\\LogiOverlay.exe    N/A      |\n",
      "|    0   N/A  N/A      4476    C+G   C:\\Windows\\explorer.exe         N/A      |\n",
      "|    0   N/A  N/A      6932    C+G   ...urrent\\LogiOptionsMgr.exe    N/A      |\n",
      "|    0   N/A  N/A      7032    C+G   ...artMenuExperienceHost.exe    N/A      |\n",
      "|    0   N/A  N/A      8484    C+G   ...ekyb3d8bbwe\\YourPhone.exe    N/A      |\n",
      "|    0   N/A  N/A      9184    C+G   ...cw5n1h2txyewy\\LockApp.exe    N/A      |\n",
      "|    0   N/A  N/A      9424    C+G   ...b3d8bbwe\\WinStore.App.exe    N/A      |\n",
      "|    0   N/A  N/A      9816    C+G   ...perience\\NVIDIA Share.exe    N/A      |\n",
      "|    0   N/A  N/A     10516    C+G   ...perience\\NVIDIA Share.exe    N/A      |\n",
      "|    0   N/A  N/A     10964    C+G   ...nputApp\\TextInputHost.exe    N/A      |\n",
      "|    0   N/A  N/A     12248    C+G   ...lPanel\\SystemSettings.exe    N/A      |\n",
      "|    0   N/A  N/A     13604    C+G   ...me\\Application\\chrome.exe    N/A      |\n",
      "|    0   N/A  N/A     15276    C+G   ...wekyb3d8bbwe\\Video.UI.exe    N/A      |\n",
      "|    0   N/A  N/A     16684    C+G   ...y\\ShellExperienceHost.exe    N/A      |\n",
      "|    0   N/A  N/A     17948    C+G   ...bbwe\\Microsoft.Photos.exe    N/A      |\n",
      "+-----------------------------------------------------------------------------+\n"
     ]
    }
   ],
   "source": [
    "!nvidia-smi"
   ]
  },
  {
   "cell_type": "code",
   "execution_count": 142,
   "metadata": {},
   "outputs": [
    {
     "name": "stdout",
     "output_type": "stream",
     "text": [
      "Found 39209 files belonging to 43 classes.\n",
      "Using 35289 files for training.\n",
      "Found 39209 files belonging to 43 classes.\n",
      "Using 3920 files for validation.\n",
      "Found 12630 files belonging to 43 classes.\n",
      "[LogicalDevice(name='/device:CPU:0', device_type='CPU'), LogicalDevice(name='/device:XLA_CPU:0', device_type='XLA_CPU'), LogicalDevice(name='/device:GPU:0', device_type='GPU'), LogicalDevice(name='/device:XLA_GPU:0', device_type='XLA_GPU')]\n"
     ]
    }
   ],
   "source": [
    "path = 'C:/Users/Fran/Documents/archive/Train'\n",
    "test_path = 'C:/Users/Fran/Documents/archive/Test'\n",
    "\n",
    "seed_int = random.randint(1, 1e5)\n",
    "\n",
    "labels = list(map(str, np.arange(43)))\n",
    "\n",
    "x_train = tf.keras.preprocessing.image_dataset_from_directory(path, labels=\"inferred\", label_mode=\"categorical\", color_mode=\"rgb\", batch_size=128, image_size=(32, 32), seed=seed_int, validation_split=0.1, subset=\"training\", class_names=labels)\n",
    "\n",
    "x_validate = tf.keras.preprocessing.image_dataset_from_directory(path, labels=\"inferred\", label_mode=\"categorical\", color_mode=\"rgb\", batch_size=128, image_size=(32, 32), seed=seed_int, validation_split=0.1, subset=\"validation\", class_names=labels)\n",
    "\n",
    "x_test = tf.keras.preprocessing.image_dataset_from_directory(test_path, labels=\"inferred\", label_mode=\"categorical\", color_mode=\"rgb\", batch_size=128, image_size=(32, 32), seed=seed_int, class_names=labels)\n",
    "\n",
    "model = tf.keras.applications.ResNet50(include_top=True, weights=None, classes=43, input_shape=(32, 32, 3))\n",
    "\n",
    "model.compile(optimizer=\"adam\", loss=tf.keras.losses.CategoricalCrossentropy(), metrics=[\"accuracy\"])\n",
    "\n",
    "print(tf.config.list_logical_devices())\n"
   ]
  },
  {
   "cell_type": "code",
   "execution_count": 149,
   "metadata": {},
   "outputs": [
    {
     "data": {
      "text/plain": [
       "Reusing TensorBoard on port 6006 (pid 14544), started 0:42:32 ago. (Use '!kill 14544' to kill it.)"
      ]
     },
     "metadata": {},
     "output_type": "display_data"
    },
    {
     "data": {
      "text/html": [
       "\n",
       "      <iframe id=\"tensorboard-frame-97004bed5882f026\" width=\"100%\" height=\"800\" frameborder=\"0\">\n",
       "      </iframe>\n",
       "      <script>\n",
       "        (function() {\n",
       "          const frame = document.getElementById(\"tensorboard-frame-97004bed5882f026\");\n",
       "          const url = new URL(\"/\", window.location);\n",
       "          const port = 6006;\n",
       "          if (port) {\n",
       "            url.port = port;\n",
       "          }\n",
       "          frame.src = url;\n",
       "        })();\n",
       "      </script>\n",
       "    "
      ],
      "text/plain": [
       "<IPython.core.display.HTML object>"
      ]
     },
     "metadata": {},
     "output_type": "display_data"
    },
    {
     "name": "stdout",
     "output_type": "stream",
     "text": [
      "Epoch 1/50\n",
      "276/276 [==============================] - 39s 138ms/step - loss: 0.4856 - accuracy: 0.9071 - val_loss: 0.1791 - val_accuracy: 0.9434\n",
      "Epoch 2/50\n",
      "276/276 [==============================] - 36s 129ms/step - loss: 0.1192 - accuracy: 0.9715 - val_loss: 0.1140 - val_accuracy: 0.9676\n",
      "Epoch 3/50\n",
      "276/276 [==============================] - 36s 130ms/step - loss: 0.0886 - accuracy: 0.9803 - val_loss: 0.6258 - val_accuracy: 0.8712\n",
      "Epoch 4/50\n",
      "276/276 [==============================] - 36s 129ms/step - loss: 0.1325 - accuracy: 0.9607 - val_loss: 0.1130 - val_accuracy: 0.9673\n",
      "Epoch 5/50\n",
      "276/276 [==============================] - 36s 130ms/step - loss: 0.0583 - accuracy: 0.9866 - val_loss: 0.0641 - val_accuracy: 0.9809\n",
      "Epoch 6/50\n",
      "276/276 [==============================] - 36s 129ms/step - loss: 0.0253 - accuracy: 0.9925 - val_loss: 0.3902 - val_accuracy: 0.9679\n",
      "Epoch 7/50\n",
      "276/276 [==============================] - 36s 129ms/step - loss: 0.0625 - accuracy: 0.9805 - val_loss: 0.0767 - val_accuracy: 0.9806\n",
      "Epoch 8/50\n",
      "276/276 [==============================] - 36s 130ms/step - loss: 0.4380 - accuracy: 0.9059 - val_loss: 0.2025 - val_accuracy: 0.9365\n",
      "Epoch 9/50\n",
      "276/276 [==============================] - 36s 129ms/step - loss: 0.2140 - accuracy: 0.9524 - val_loss: 0.1421 - val_accuracy: 0.9671\n",
      "Epoch 10/50\n",
      "276/276 [==============================] - 36s 129ms/step - loss: 0.1504 - accuracy: 0.9608 - val_loss: 0.9015 - val_accuracy: 0.7939\n",
      "Epoch 11/50\n",
      "276/276 [==============================] - 36s 129ms/step - loss: 0.1603 - accuracy: 0.9555 - val_loss: 0.9778 - val_accuracy: 0.7888\n",
      "Epoch 12/50\n",
      "276/276 [==============================] - 36s 130ms/step - loss: 0.1117 - accuracy: 0.9704 - val_loss: 0.0669 - val_accuracy: 0.9801\n",
      "Epoch 13/50\n",
      "276/276 [==============================] - 36s 129ms/step - loss: 0.0223 - accuracy: 0.9933 - val_loss: 0.0536 - val_accuracy: 0.9837\n",
      "Epoch 14/50\n",
      "276/276 [==============================] - 36s 129ms/step - loss: 0.1057 - accuracy: 0.9820 - val_loss: 13.6545 - val_accuracy: 0.0750\n",
      "Epoch 15/50\n",
      "276/276 [==============================] - 36s 129ms/step - loss: 0.1228 - accuracy: 0.9616 - val_loss: 0.0641 - val_accuracy: 0.9776\n",
      "Epoch 16/50\n",
      "276/276 [==============================] - 36s 130ms/step - loss: 0.0742 - accuracy: 0.9791 - val_loss: 0.0702 - val_accuracy: 0.9773\n",
      "Epoch 17/50\n",
      "276/276 [==============================] - 37s 132ms/step - loss: 0.0293 - accuracy: 0.9910 - val_loss: 0.0606 - val_accuracy: 0.9814\n",
      "Epoch 18/50\n",
      "276/276 [==============================] - 36s 129ms/step - loss: 0.1159 - accuracy: 0.9683 - val_loss: 0.1072 - val_accuracy: 0.9663\n",
      "Epoch 19/50\n",
      "276/276 [==============================] - 36s 129ms/step - loss: 0.0460 - accuracy: 0.9872 - val_loss: 0.0610 - val_accuracy: 0.9816\n",
      "Epoch 20/50\n",
      "276/276 [==============================] - 36s 129ms/step - loss: 0.0166 - accuracy: 0.9953 - val_loss: 0.1167 - val_accuracy: 0.9709\n",
      "Epoch 21/50\n",
      "276/276 [==============================] - 37s 131ms/step - loss: 0.0342 - accuracy: 0.9901 - val_loss: 0.0619 - val_accuracy: 0.9819\n",
      "Epoch 22/50\n",
      "276/276 [==============================] - 36s 130ms/step - loss: 0.0147 - accuracy: 0.9952 - val_loss: 0.0380 - val_accuracy: 0.9906\n",
      "Epoch 23/50\n",
      "276/276 [==============================] - 37s 131ms/step - loss: 0.0124 - accuracy: 0.9961 - val_loss: 0.0595 - val_accuracy: 0.9875\n",
      "Epoch 24/50\n",
      "276/276 [==============================] - 36s 129ms/step - loss: 0.0177 - accuracy: 0.9946 - val_loss: 0.1183 - val_accuracy: 0.9673\n",
      "Epoch 25/50\n",
      "276/276 [==============================] - 36s 130ms/step - loss: 0.0170 - accuracy: 0.9943 - val_loss: 0.0876 - val_accuracy: 0.9768\n",
      "Epoch 26/50\n",
      "276/276 [==============================] - 36s 129ms/step - loss: 0.0329 - accuracy: 0.9898 - val_loss: 0.3310 - val_accuracy: 0.9117\n",
      "Epoch 27/50\n",
      "276/276 [==============================] - 36s 130ms/step - loss: 0.0208 - accuracy: 0.9939 - val_loss: 0.0718 - val_accuracy: 0.9819\n",
      "Epoch 28/50\n",
      "276/276 [==============================] - 36s 129ms/step - loss: 0.0171 - accuracy: 0.9948 - val_loss: 0.1465 - val_accuracy: 0.9651\n",
      "Epoch 29/50\n",
      "276/276 [==============================] - 36s 130ms/step - loss: 0.0240 - accuracy: 0.9926 - val_loss: 0.1064 - val_accuracy: 0.9727\n",
      "Epoch 30/50\n",
      "276/276 [==============================] - 36s 130ms/step - loss: 0.0746 - accuracy: 0.9806 - val_loss: 0.0595 - val_accuracy: 0.9847\n",
      "Epoch 31/50\n",
      "276/276 [==============================] - 36s 130ms/step - loss: 0.0139 - accuracy: 0.9956 - val_loss: 0.0436 - val_accuracy: 0.9901\n",
      "Epoch 32/50\n",
      "276/276 [==============================] - 36s 130ms/step - loss: 0.0056 - accuracy: 0.9983 - val_loss: 0.0413 - val_accuracy: 0.9878\n",
      "Epoch 33/50\n",
      "276/276 [==============================] - 36s 129ms/step - loss: 0.0101 - accuracy: 0.9969 - val_loss: 0.1016 - val_accuracy: 0.9704\n",
      "Epoch 34/50\n",
      "276/276 [==============================] - 36s 130ms/step - loss: 0.0145 - accuracy: 0.9955 - val_loss: 0.0640 - val_accuracy: 0.9839\n",
      "Epoch 35/50\n",
      "276/276 [==============================] - 36s 129ms/step - loss: 0.0237 - accuracy: 0.9927 - val_loss: 0.1594 - val_accuracy: 0.9661\n",
      "Epoch 36/50\n",
      "276/276 [==============================] - 36s 130ms/step - loss: 0.0235 - accuracy: 0.9932 - val_loss: 0.0561 - val_accuracy: 0.9847\n",
      "Epoch 37/50\n",
      "276/276 [==============================] - 36s 129ms/step - loss: 0.0100 - accuracy: 0.9969 - val_loss: 0.0569 - val_accuracy: 0.9870\n",
      "Epoch 38/50\n",
      "276/276 [==============================] - 36s 130ms/step - loss: 0.1046 - accuracy: 0.9768 - val_loss: 0.1244 - val_accuracy: 0.9704\n",
      "Epoch 39/50\n",
      "276/276 [==============================] - 37s 131ms/step - loss: 0.0194 - accuracy: 0.9942 - val_loss: 0.0624 - val_accuracy: 0.9872\n",
      "Epoch 40/50\n",
      "276/276 [==============================] - 36s 128ms/step - loss: 0.0156 - accuracy: 0.9967 - val_loss: 0.0431 - val_accuracy: 0.9885\n",
      "Epoch 41/50\n",
      "276/276 [==============================] - 36s 129ms/step - loss: 0.0425 - accuracy: 0.9916 - val_loss: 0.0368 - val_accuracy: 0.9903\n",
      "Epoch 42/50\n",
      "276/276 [==============================] - 36s 127ms/step - loss: 0.0078 - accuracy: 0.9973 - val_loss: 0.0299 - val_accuracy: 0.9923\n",
      "Epoch 43/50\n",
      "276/276 [==============================] - 36s 130ms/step - loss: 0.1322 - accuracy: 0.9736 - val_loss: 0.0779 - val_accuracy: 0.9770\n",
      "Epoch 44/50\n",
      "276/276 [==============================] - 36s 129ms/step - loss: 0.0128 - accuracy: 0.9958 - val_loss: 0.0279 - val_accuracy: 0.9944\n",
      "Epoch 45/50\n",
      "276/276 [==============================] - 36s 130ms/step - loss: 0.0082 - accuracy: 0.9981 - val_loss: 0.0246 - val_accuracy: 0.9946\n",
      "Epoch 46/50\n",
      "276/276 [==============================] - 36s 129ms/step - loss: 0.0035 - accuracy: 0.9987 - val_loss: 0.0687 - val_accuracy: 0.9811\n",
      "Epoch 47/50\n",
      "276/276 [==============================] - 36s 129ms/step - loss: 0.0089 - accuracy: 0.9973 - val_loss: 0.1004 - val_accuracy: 0.9770\n",
      "Epoch 48/50\n",
      "276/276 [==============================] - 36s 129ms/step - loss: 0.0073 - accuracy: 0.9979 - val_loss: 0.0326 - val_accuracy: 0.9931\n",
      "Epoch 49/50\n",
      "276/276 [==============================] - 36s 130ms/step - loss: 0.0088 - accuracy: 0.9974 - val_loss: 0.0430 - val_accuracy: 0.9908\n",
      "Epoch 50/50\n",
      "276/276 [==============================] - 36s 130ms/step - loss: 0.0063 - accuracy: 0.9979 - val_loss: 0.0244 - val_accuracy: 0.9941\n"
     ]
    }
   ],
   "source": [
    "log_dir = \"C:/Users/Fran/Documents/archive/\" + datetime.datetime.now().strftime(\"%Y%m%d-%H%M%S\")\n",
    "tensorboard_callback = tf.keras.callbacks.TensorBoard(log_dir=log_dir,  histogram_freq=1)\n",
    "%tensorboard --logdir C:/Users/Fran/Documents/archive\n",
    "\n",
    "with tf.device(\"/device:GPU:0\"):\n",
    "    model.fit(x_train, epochs=50, verbose=1, callbacks=[tensorboard_callback], validation_data=x_validate)\n",
    "    \n",
    "\n",
    "# model.save_weights(\"C:/Users/Fran/Documents/archive/model\")\n",
    "# model.save(\"C:/Users/Fran/Documents/archive/model\")"
   ]
  },
  {
   "cell_type": "code",
   "execution_count": 151,
   "metadata": {},
   "outputs": [
    {
     "data": {
      "text/plain": [
       "Reusing TensorBoard on port 6006 (pid 14544), started 1:27:44 ago. (Use '!kill 14544' to kill it.)"
      ]
     },
     "metadata": {},
     "output_type": "display_data"
    },
    {
     "data": {
      "text/html": [
       "\n",
       "      <iframe id=\"tensorboard-frame-caeb8af5fa78fefd\" width=\"100%\" height=\"800\" frameborder=\"0\">\n",
       "      </iframe>\n",
       "      <script>\n",
       "        (function() {\n",
       "          const frame = document.getElementById(\"tensorboard-frame-caeb8af5fa78fefd\");\n",
       "          const url = new URL(\"/\", window.location);\n",
       "          const port = 6006;\n",
       "          if (port) {\n",
       "            url.port = port;\n",
       "          }\n",
       "          frame.src = url;\n",
       "        })();\n",
       "      </script>\n",
       "    "
      ],
      "text/plain": [
       "<IPython.core.display.HTML object>"
      ]
     },
     "metadata": {},
     "output_type": "display_data"
    },
    {
     "name": "stdout",
     "output_type": "stream",
     "text": [
      "Epoch 1/50\n",
      "276/276 [==============================] - 21s 72ms/step - loss: 1.7720 - accuracy: 0.5462 - val_loss: 0.2463 - val_accuracy: 0.9265\n",
      "Epoch 2/50\n",
      "276/276 [==============================] - 19s 67ms/step - loss: 0.2334 - accuracy: 0.9275 - val_loss: 0.1123 - val_accuracy: 0.9671\n",
      "Epoch 3/50\n",
      "276/276 [==============================] - 19s 68ms/step - loss: 0.1332 - accuracy: 0.9596 - val_loss: 0.0748 - val_accuracy: 0.9763\n",
      "Epoch 4/50\n",
      "276/276 [==============================] - 19s 67ms/step - loss: 0.0919 - accuracy: 0.9702 - val_loss: 0.0682 - val_accuracy: 0.9791\n",
      "Epoch 5/50\n",
      "276/276 [==============================] - 19s 67ms/step - loss: 0.0714 - accuracy: 0.9774 - val_loss: 0.0570 - val_accuracy: 0.9844\n",
      "Epoch 6/50\n",
      "276/276 [==============================] - 19s 67ms/step - loss: 0.0594 - accuracy: 0.9800 - val_loss: 0.0499 - val_accuracy: 0.9857\n",
      "Epoch 7/50\n",
      "276/276 [==============================] - 19s 68ms/step - loss: 0.0506 - accuracy: 0.9839 - val_loss: 0.0460 - val_accuracy: 0.9867\n",
      "Epoch 8/50\n",
      "276/276 [==============================] - 19s 67ms/step - loss: 0.0412 - accuracy: 0.9858 - val_loss: 0.0781 - val_accuracy: 0.9793\n",
      "Epoch 9/50\n",
      "276/276 [==============================] - 19s 67ms/step - loss: 0.0378 - accuracy: 0.9874 - val_loss: 0.0518 - val_accuracy: 0.9870\n",
      "Epoch 10/50\n",
      "276/276 [==============================] - 19s 67ms/step - loss: 0.0333 - accuracy: 0.9895 - val_loss: 0.0452 - val_accuracy: 0.9872\n",
      "Epoch 11/50\n",
      "276/276 [==============================] - 19s 67ms/step - loss: 0.0387 - accuracy: 0.9866 - val_loss: 0.0453 - val_accuracy: 0.9890\n",
      "Epoch 12/50\n",
      "276/276 [==============================] - 19s 68ms/step - loss: 0.0272 - accuracy: 0.9912 - val_loss: 0.0382 - val_accuracy: 0.9908\n",
      "Epoch 13/50\n",
      "276/276 [==============================] - 19s 67ms/step - loss: 0.0289 - accuracy: 0.9905 - val_loss: 0.0562 - val_accuracy: 0.9857\n",
      "Epoch 14/50\n",
      "276/276 [==============================] - 19s 67ms/step - loss: 0.0358 - accuracy: 0.9887 - val_loss: 0.0331 - val_accuracy: 0.9885\n",
      "Epoch 15/50\n",
      "276/276 [==============================] - 19s 67ms/step - loss: 0.0272 - accuracy: 0.9906 - val_loss: 0.0381 - val_accuracy: 0.9903\n",
      "Epoch 16/50\n",
      "276/276 [==============================] - 19s 68ms/step - loss: 0.0230 - accuracy: 0.9927 - val_loss: 0.0361 - val_accuracy: 0.9923\n",
      "Epoch 17/50\n",
      "276/276 [==============================] - 19s 67ms/step - loss: 0.0266 - accuracy: 0.9912 - val_loss: 0.0295 - val_accuracy: 0.9921\n",
      "Epoch 18/50\n",
      "276/276 [==============================] - 19s 67ms/step - loss: 0.0180 - accuracy: 0.9939 - val_loss: 0.0364 - val_accuracy: 0.9906\n",
      "Epoch 19/50\n",
      "276/276 [==============================] - 19s 68ms/step - loss: 0.0236 - accuracy: 0.9929 - val_loss: 0.0354 - val_accuracy: 0.9926\n",
      "Epoch 20/50\n",
      "276/276 [==============================] - 19s 67ms/step - loss: 0.0183 - accuracy: 0.9930 - val_loss: 0.0417 - val_accuracy: 0.9911\n",
      "Epoch 21/50\n",
      "276/276 [==============================] - 19s 67ms/step - loss: 0.0217 - accuracy: 0.9938 - val_loss: 0.0350 - val_accuracy: 0.9929\n",
      "Epoch 22/50\n",
      "276/276 [==============================] - 19s 69ms/step - loss: 0.0217 - accuracy: 0.9931 - val_loss: 0.0305 - val_accuracy: 0.9931\n",
      "Epoch 23/50\n",
      "276/276 [==============================] - 19s 67ms/step - loss: 0.0236 - accuracy: 0.9927 - val_loss: 0.0673 - val_accuracy: 0.9832\n",
      "Epoch 24/50\n",
      "276/276 [==============================] - 19s 67ms/step - loss: 0.0216 - accuracy: 0.9930 - val_loss: 0.0268 - val_accuracy: 0.9944\n",
      "Epoch 25/50\n",
      "276/276 [==============================] - 19s 68ms/step - loss: 0.0228 - accuracy: 0.9938 - val_loss: 0.0352 - val_accuracy: 0.9926\n",
      "Epoch 26/50\n",
      "276/276 [==============================] - 19s 69ms/step - loss: 0.0182 - accuracy: 0.9943 - val_loss: 0.0389 - val_accuracy: 0.9921\n",
      "Epoch 27/50\n",
      "276/276 [==============================] - 19s 67ms/step - loss: 0.0123 - accuracy: 0.9957 - val_loss: 0.0335 - val_accuracy: 0.9931\n",
      "Epoch 28/50\n",
      "276/276 [==============================] - 19s 67ms/step - loss: 0.0206 - accuracy: 0.9935 - val_loss: 0.0317 - val_accuracy: 0.9949\n",
      "Epoch 29/50\n",
      "276/276 [==============================] - 19s 68ms/step - loss: 0.0150 - accuracy: 0.9949 - val_loss: 0.0354 - val_accuracy: 0.9941\n",
      "Epoch 30/50\n",
      "276/276 [==============================] - 19s 67ms/step - loss: 0.0159 - accuracy: 0.9954 - val_loss: 0.0256 - val_accuracy: 0.9944\n",
      "Epoch 31/50\n",
      "276/276 [==============================] - 19s 67ms/step - loss: 0.0117 - accuracy: 0.9957 - val_loss: 0.0309 - val_accuracy: 0.9944\n",
      "Epoch 32/50\n",
      "276/276 [==============================] - 19s 68ms/step - loss: 0.0128 - accuracy: 0.9964 - val_loss: 0.0490 - val_accuracy: 0.9908\n",
      "Epoch 33/50\n",
      "276/276 [==============================] - 19s 68ms/step - loss: 0.0186 - accuracy: 0.9943 - val_loss: 0.0256 - val_accuracy: 0.9949\n",
      "Epoch 34/50\n",
      "276/276 [==============================] - 19s 67ms/step - loss: 0.0115 - accuracy: 0.9968 - val_loss: 0.0267 - val_accuracy: 0.9931\n",
      "Epoch 35/50\n",
      "276/276 [==============================] - 18s 66ms/step - loss: 0.0194 - accuracy: 0.9943 - val_loss: 0.0378 - val_accuracy: 0.9929\n",
      "Epoch 36/50\n",
      "276/276 [==============================] - 19s 66ms/step - loss: 0.0161 - accuracy: 0.9957 - val_loss: 0.0292 - val_accuracy: 0.9946\n",
      "Epoch 37/50\n",
      "276/276 [==============================] - 19s 66ms/step - loss: 0.0187 - accuracy: 0.9954 - val_loss: 0.0268 - val_accuracy: 0.9946\n",
      "Epoch 38/50\n",
      "276/276 [==============================] - 18s 65ms/step - loss: 0.0146 - accuracy: 0.9955 - val_loss: 0.0285 - val_accuracy: 0.9944\n",
      "Epoch 39/50\n",
      "276/276 [==============================] - 19s 66ms/step - loss: 0.0109 - accuracy: 0.9966 - val_loss: 0.0363 - val_accuracy: 0.9936\n",
      "Epoch 40/50\n",
      "276/276 [==============================] - 19s 66ms/step - loss: 0.0084 - accuracy: 0.9969 - val_loss: 0.0265 - val_accuracy: 0.9936\n",
      "Epoch 41/50\n",
      "276/276 [==============================] - 19s 66ms/step - loss: 0.0081 - accuracy: 0.9971 - val_loss: 0.0308 - val_accuracy: 0.9939\n",
      "Epoch 42/50\n",
      "276/276 [==============================] - 19s 66ms/step - loss: 0.0107 - accuracy: 0.9962 - val_loss: 0.0371 - val_accuracy: 0.9934\n",
      "Epoch 43/50\n",
      "276/276 [==============================] - 19s 66ms/step - loss: 0.0083 - accuracy: 0.9974 - val_loss: 0.0471 - val_accuracy: 0.9906\n",
      "Epoch 44/50\n",
      "276/276 [==============================] - 19s 66ms/step - loss: 0.0121 - accuracy: 0.9963 - val_loss: 0.0272 - val_accuracy: 0.9944\n",
      "Epoch 45/50\n",
      "276/276 [==============================] - 19s 66ms/step - loss: 0.0082 - accuracy: 0.9974 - val_loss: 0.0361 - val_accuracy: 0.9923\n",
      "Epoch 46/50\n",
      "276/276 [==============================] - 19s 66ms/step - loss: 0.0144 - accuracy: 0.9963 - val_loss: 0.0268 - val_accuracy: 0.9941\n",
      "Epoch 47/50\n",
      "276/276 [==============================] - 19s 66ms/step - loss: 0.0077 - accuracy: 0.9979 - val_loss: 0.0246 - val_accuracy: 0.9949\n",
      "Epoch 48/50\n",
      "276/276 [==============================] - 19s 66ms/step - loss: 0.0079 - accuracy: 0.9977 - val_loss: 0.0319 - val_accuracy: 0.9936\n",
      "Epoch 49/50\n",
      "276/276 [==============================] - 19s 66ms/step - loss: 0.0116 - accuracy: 0.9965 - val_loss: 0.0270 - val_accuracy: 0.9949\n",
      "Epoch 50/50\n",
      "276/276 [==============================] - 19s 67ms/step - loss: 0.0103 - accuracy: 0.9966 - val_loss: 0.0347 - val_accuracy: 0.9941\n"
     ]
    },
    {
     "data": {
      "text/plain": [
       "<tensorflow.python.keras.callbacks.History at 0x2067f1f7400>"
      ]
     },
     "execution_count": 151,
     "metadata": {},
     "output_type": "execute_result"
    }
   ],
   "source": [
    "baseline_model = tf.keras.Sequential(layers=[Conv2D(8, (5, 5), input_shape=(32, 32, 3), activation=\"relu\"),\n",
    "                                             MaxPooling2D(pool_size=(2, 2)),\n",
    "                                             Conv2D(16, (3, 3), activation=\"relu\"),\n",
    "                                             BatchNormalization(),\n",
    "                                             Conv2D(16, (3, 3), activation=\"relu\"),\n",
    "                                             BatchNormalization(),\n",
    "                                             MaxPooling2D(pool_size=(2, 2)),\n",
    "                                             Conv2D(32, (3, 3), padding=\"same\", activation=\"relu\"),\n",
    "                                             BatchNormalization(),\n",
    "                                             Conv2D(32, (3, 3), padding=\"same\", activation=\"relu\"),\n",
    "                                             BatchNormalization(),\n",
    "                                             Flatten(),\n",
    "                                             Dropout(0.5),\n",
    "                                             Dense(512, activation=\"relu\"),\n",
    "                                             Dense(43, activation=\"softmax\")\n",
    "                                             ])\n",
    "\n",
    "log_dir_base = \"C:/Users/Fran/Documents/archive/\" + datetime.datetime.now().strftime(\"%Y%m%d-%H%M%S\") + \"_base\"\n",
    "tensorboard_callback_base = tf.keras.callbacks.TensorBoard(log_dir=log_dir_base,  histogram_freq=1)\n",
    "%tensorboard --logdir C:/Users/Fran/Documents/archive\n",
    "\n",
    "optimizer = Adam()\n",
    "baseline_model.compile(optimizer=optimizer, loss=tf.keras.losses.CategoricalCrossentropy(), metrics=[\"accuracy\"])\n",
    "\n",
    "baseline_model.fit(x_train, epochs=50, verbose=1, callbacks=[tensorboard_callback_base], validation_data=x_validate)\n",
    "\n",
    "# baseline_model.save_weights(\"C:/Users/Fran/Documents/archive/baseline\")\n",
    "# baseline_model.save(\"C:/Users/Fran/Documents/archive/baseline\")"
   ]
  },
  {
   "cell_type": "code",
   "execution_count": 152,
   "metadata": {},
   "outputs": [
    {
     "name": "stdout",
     "output_type": "stream",
     "text": [
      "99/99 [==============================] - 8s 72ms/step - loss: 0.4243 - accuracy: 0.9337\n"
     ]
    },
    {
     "data": {
      "text/plain": [
       "[0.4243049919605255, 0.933650016784668]"
      ]
     },
     "execution_count": 152,
     "metadata": {},
     "output_type": "execute_result"
    }
   ],
   "source": [
    "tf.executing_eagerly()\n",
    "model.evaluate(x_test)"
   ]
  },
  {
   "cell_type": "code",
   "execution_count": 153,
   "metadata": {},
   "outputs": [
    {
     "name": "stdout",
     "output_type": "stream",
     "text": [
      "99/99 [==============================] - 6s 53ms/step - loss: 0.3788 - accuracy: 0.9477\n"
     ]
    },
    {
     "data": {
      "text/plain": [
       "[0.37884005904197693, 0.9476643204689026]"
      ]
     },
     "execution_count": 153,
     "metadata": {},
     "output_type": "execute_result"
    }
   ],
   "source": [
    "tf.executing_eagerly()\n",
    "baseline_model.evaluate(x_test)"
   ]
  }
 ],
 "metadata": {
  "kernelspec": {
   "display_name": "Python 3",
   "language": "python",
   "name": "python3"
  },
  "language_info": {
   "codemirror_mode": {
    "name": "ipython",
    "version": 3
   },
   "file_extension": ".py",
   "mimetype": "text/x-python",
   "name": "python",
   "nbconvert_exporter": "python",
   "pygments_lexer": "ipython3",
   "version": "3.8.5"
  }
 },
 "nbformat": 4,
 "nbformat_minor": 4
}
